{
 "cells": [
  {
   "cell_type": "markdown",
   "metadata": {},
   "source": [
    "# 1.2 - Exploring a grid based approach for fast calculation"
   ]
  },
  {
   "cell_type": "markdown",
   "metadata": {},
   "source": [
    "Notebook 1.1 demonstrated the complexity of this task due to the size of the citizen science data in combination with the high resolution of the target grids. Even after reducing the GBIF data to only the top 100 species and performing a \"reverse query\" from each observation to the neighborhood of grid cells, the results are still too large to process with our system.\n",
    "\n"
   ]
  },
  {
   "cell_type": "markdown",
   "metadata": {},
   "source": []
  }
 ],
 "metadata": {
  "language_info": {
   "name": "python"
  }
 },
 "nbformat": 4,
 "nbformat_minor": 2
}
