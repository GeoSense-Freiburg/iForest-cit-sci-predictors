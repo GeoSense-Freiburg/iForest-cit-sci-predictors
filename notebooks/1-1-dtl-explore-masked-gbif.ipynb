{
 "cells": [
  {
   "cell_type": "markdown",
   "metadata": {},
   "source": [
    "# 1.1 - Explore forest-masked GBIF data"
   ]
  },
  {
   "cell_type": "code",
   "execution_count": 1,
   "metadata": {},
   "outputs": [],
   "source": [
    "from affine import Affine\n",
    "import math\n",
    "from typing import Generator\n",
    "import os\n",
    "\n",
    "from dotenv import find_dotenv, load_dotenv\n",
    "import geopandas as gpd\n",
    "import numpy as np\n",
    "import pandas as pd\n",
    "import rasterio\n",
    "import seaborn as sns\n",
    "import pygeos\n",
    "from shapely.geometry import Point\n",
    "from geopandas import GeoSeries\n",
    "from tqdm.notebook import tqdm\n",
    "\n",
    "from src.conf.parse_params import config as cfg\n",
    "from src.utils.df_utils import read_df, read_gdf\n",
    "\n",
    "load_dotenv(find_dotenv())\n",
    "os.chdir(os.environ[\"PROJECT_ROOT\"])\n",
    "\n",
    "%load_ext autoreload\n",
    "%autoreload 2"
   ]
  },
  {
   "cell_type": "markdown",
   "metadata": {},
   "source": [
    "## Species composition"
   ]
  },
  {
   "cell_type": "markdown",
   "metadata": {},
   "source": [
    "After masking the GBIF data to contain only observations in forested areas, let's do a quick sanity check of the species abundances by looking at the top ten."
   ]
  },
  {
   "cell_type": "code",
   "execution_count": 47,
   "metadata": {},
   "outputs": [],
   "source": [
    "gbif = read_gdf(cfg[\"gbif\"][\"masked\"]).astype({\"species\": \"string[pyarrow]\"})"
   ]
  },
  {
   "cell_type": "code",
   "execution_count": 48,
   "metadata": {},
   "outputs": [
    {
     "name": "stdout",
     "output_type": "stream",
     "text": [
      "Unique species: 9239\n",
      "\n",
      "species\n",
      "Fagus sylvatica        147092\n",
      "Quercus robur          104352\n",
      "Sorbus aucuparia        96903\n",
      "Urtica dioica           93114\n",
      "Picea abies             79446\n",
      "Fraxinus excelsior      73032\n",
      "Acer pseudoplatanus     71263\n",
      "Filipendula ulmaria     70993\n",
      "Juncus effusus          68834\n",
      "Corylus avellana        68024\n",
      "Name: count, dtype: int64[pyarrow]\n"
     ]
    }
   ],
   "source": [
    "unique_species_count = gbif.species.nunique()\n",
    "print(f\"Unique species: {unique_species_count}\")\n",
    "print(f\"\\n{gbif.species.value_counts()[:10]}\")"
   ]
  },
  {
   "cell_type": "markdown",
   "metadata": {},
   "source": [
    "It looks like _Fagus sylvatica_ (European beech) is the most abundant species, followed by _Quercus robur_ (pedunculate oak), and there are 9,329 unique species occurrences.\n",
    "\n",
    "Additionally, let's look at the number of species with only 5 observations or fewer."
   ]
  },
  {
   "cell_type": "code",
   "execution_count": 49,
   "metadata": {},
   "outputs": [
    {
     "name": "stdout",
     "output_type": "stream",
     "text": [
      "Number of species with <= 5 observations: 3953\n",
      "Percentage of total: 42.79%\n",
      "Average # of observations for top 100 species: 47691\n"
     ]
    }
   ],
   "source": [
    "counts = gbif.species.value_counts()\n",
    "filtered_counts = counts[counts <= 5]\n",
    "species_count = len(filtered_counts)\n",
    "average_for_top_100 = counts[:100].mean()\n",
    "print(f\"Number of species with <= 5 observations: {species_count}\")\n",
    "print(f\"Percentage of total: {(species_count / unique_species_count) * 100:.2f}%\")\n",
    "print(f\"Average # of observations for top 100 species: {average_for_top_100:.0f}\")"
   ]
  },
  {
   "cell_type": "code",
   "execution_count": 59,
   "metadata": {},
   "outputs": [
    {
     "data": {
      "image/png": "[encoded data removed]",
      "text/plain": [
       "<Figure size 500x500 with 1 Axes>"
      ]
     },
     "metadata": {},
     "output_type": "display_data"
    }
   ],
   "source": [
    "with sns.plotting_context(\"notebook\"):\n",
    "    sns.set_style(\"ticks\")\n",
    "    g = sns.displot(counts, kind=\"ecdf\", log_scale=True)\n",
    "    g.figure.suptitle(\"ECDF of species observations (log-scaled)\", y=1.05)\n",
    "    g.despine();"
   ]
  },
  {
   "cell_type": "markdown",
   "metadata": {},
   "source": [
    "Nearly half of the observed species have extremely low abundance compared to the top 100 species documented in the masked GBIF data. With this in mind let's look into the complexity of the task at hand."
   ]
  },
  {
   "cell_type": "markdown",
   "metadata": {},
   "source": [
    "## Problem complexity"
   ]
  },
  {
   "cell_type": "markdown",
   "metadata": {},
   "source": [
    "Now that the GBIF data has been masked to only contain observations in forested areas, let's assess the general complexity of the problem to help select an approach. We can start by looking at the number of species in combination with the raster sizes. These are critical figures as different approaches may require us to iterate over each species and/or every grid cell of the target rasters to generate the desired statistics.\n",
    "\n",
    "We start by loading in the GBIF data in its non-GeoDataFrame format in which we've also replaced species name with a species id (see `dvc repro save_species_ids_points`)."
   ]
  },
  {
   "cell_type": "code",
   "execution_count": 54,
   "metadata": {},
   "outputs": [
    {
     "name": "stdout",
     "output_type": "stream",
     "text": [
      "Unique species: 9239\n"
     ]
    }
   ],
   "source": [
    "gbif = read_df(cfg[\"gbif\"][\"points\"])\n",
    "unique_species = gbif.species_id.nunique()\n",
    "print(\"Unique species:\", unique_species)"
   ]
  },
  {
   "cell_type": "markdown",
   "metadata": {},
   "source": [
    "Next we will load each Sentinel-2 target raster and do some simple math to calculate the total number of operations for two approaches."
   ]
  },
  {
   "cell_type": "code",
   "execution_count": 55,
   "metadata": {},
   "outputs": [
    {
     "name": "stdout",
     "output_type": "stream",
     "text": [
      "S2 10m shape: (86500, 64100)\n",
      "S2 10m cell count: 5,544,650,000\n",
      "\n",
      "S2 20m shape: (43300, 32100)\n",
      "S2 20m cell count: 1,389,930,000\n"
     ]
    }
   ],
   "source": [
    "with rasterio.open(cfg[\"s2_10m\"][\"src\"]) as src:\n",
    "    shape_10m = (src.height, src.width)\n",
    "\n",
    "with rasterio.open(cfg[\"s2_20m\"][\"src\"]) as src:\n",
    "    shape_20m = (src.height, src.width)\n",
    "\n",
    "print(f\"S2 10m shape: {shape_10m}\")\n",
    "print(f\"S2 10m cell count: {math.prod(shape_10m):,}\")\n",
    "print(f\"\\nS2 20m shape: {shape_20m}\")\n",
    "print(f\"S2 20m cell count: {math.prod(shape_20m):,}\")"
   ]
  },
  {
   "cell_type": "markdown",
   "metadata": {},
   "source": [
    "So, if we can gather statistics for **all species** on a **single pass** of each raster for each desired radius, and our approach is cell-based, we are looking at:\n",
    "\n",
    "$(86500 * 64100 + 43300 * 32100) * 5 = 1.249e+10$\n",
    "\n",
    "or ~12.5 billion operations.\n",
    "\n",
    "If we choose an approach that iterates over **each grid for each species**, then we can multiply that figure by 9,239, which leads to:\n",
    "\n",
    "~115.4 trillion operations."
   ]
  },
  {
   "cell_type": "markdown",
   "metadata": {},
   "source": [
    "One way this could be sped up is by filtering species from GBIF that could be considered outliers."
   ]
  },
  {
   "cell_type": "code",
   "execution_count": 56,
   "metadata": {},
   "outputs": [
    {
     "name": "stdout",
     "output_type": "stream",
     "text": [
      "5th percentile # of observations: 1\n",
      "Number of species: 7109\n"
     ]
    }
   ],
   "source": [
    "counts = gbif[\"species_id\"].value_counts()\n",
    "\n",
    "quantile = 0.05\n",
    "threshold = counts.quantile(quantile)\n",
    "\n",
    "gbif_filt = gbif[gbif[\"species_id\"].map(counts) > threshold]\n",
    "\n",
    "print(f\"{quantile * 100:g}th percentile # of observations:\", int(threshold))\n",
    "print(\"Number of species:\", gbif_filt.species_id.nunique())"
   ]
  },
  {
   "cell_type": "markdown",
   "metadata": {},
   "source": [
    "This removes almost a quarter of the GBIF species where the observation count was only 1. As we saw above, the dataset is pretty skewed in this way, however, and increasing the quantile threshold to 0.1 or 0.2 doesn't remove any more species.\n",
    "\n",
    "7,109 species is still a lot, and so we should prefer an approach that doesn't rely on iterating over each species for each grid cell to reduce adding another order of magnitude or four to the operational complexity. \n",
    "\n",
    "For our purposes, and given said operational complexity, we will focus only on the top 100 most observed species."
   ]
  },
  {
   "cell_type": "code",
   "execution_count": 58,
   "metadata": {},
   "outputs": [
    {
     "name": "stdout",
     "output_type": "stream",
     "text": [
      "Number of filtered observations: 4769067\n",
      "Filtered points percent of total points: 31.48%\n"
     ]
    }
   ],
   "source": [
    "top_species = counts.nlargest(100).index\n",
    "filtered_points = gbif[gbif.species_id.isin(top_species)]\n",
    "pct_of_total = (filtered_points.shape[0] / gbif.shape[0]) * 100\n",
    "print(f\"Number of filtered observations:\", filtered_points.shape[0])\n",
    "print(f\"Filtered points percent of total points: {pct_of_total:.2f}%\")"
   ]
  },
  {
   "cell_type": "markdown",
   "metadata": {},
   "source": [
    "## Tree-based querying"
   ]
  },
  {
   "cell_type": "markdown",
   "metadata": {},
   "source": [
    "### Querying by grid cell centroid"
   ]
  },
  {
   "cell_type": "markdown",
   "metadata": {},
   "source": [
    "One method to query species occurrences within a given radius at each grid cell center for each species is to calculate the centroid of each grid cell and then iterate over all centroids, querying for all species occurrences in a given radius for each one.\n",
    "\n",
    "To do this we can leverage a K-d tree or [R-tree](https://en.wikipedia.org/wiki/R-tree) for (relatively) quick spatial indexing. R-trees are perhaps easier to work with, but may have performance costs compared to K-d trees (though possible not signficant). This can be done using the built-in `GeoDataFrame.sindex` method from `geopandas`."
   ]
  },
  {
   "cell_type": "code",
   "execution_count": null,
   "metadata": {},
   "outputs": [],
   "source": [
    "raster_src = cfg[\"s2_20m\"][\"src\"]\n",
    "RADIUS = 1000\n",
    "points = (\n",
    "    read_df(cfg[\"gbif\"][\"points\"])\n",
    "    .assign(geometry=lambda df_: gpd.points_from_xy(df_.x, df_.y))\n",
    "    .drop(columns=[\"x\", \"y\"])\n",
    "    .pipe(lambda df_: gpd.GeoDataFrame(df_))\n",
    ")\n",
    "\n",
    "counts = points.species_id.value_counts()\n",
    "top_species = counts.nlargest(100).index\n",
    "filtered_points = points[points.species_id.isin(top_species)]\n",
    "\n",
    "\n",
    "def get_centroids(shape: tuple, transform: Affine) -> Generator[Point, None, None]:\n",
    "    \"\"\"Get grid cell centroids from a raster with a given width, height, and transform.\n",
    "    Centroids are returned in the flattened shape ((height * width), 2)\n",
    "    \"\"\"\n",
    "    for row in range(shape[0]):\n",
    "        for col in range(shape[1]):\n",
    "            x_coord, y_coord = transform * (  # pyright: ignore[reportGeneralTypeIssues]\n",
    "                col + 0.5,\n",
    "                row + 0.5,\n",
    "            )\n",
    "            yield Point(x_coord, y_coord)\n",
    "\n",
    "\n",
    "def weighted_count(\n",
    "    matches: gpd.GeoDataFrame | gpd.GeoSeries, point: Point, radius: int | float\n",
    ") -> float:\n",
    "    \"\"\"Compute a weighted count of the number of points within a given distance of a point.\"\"\"\n",
    "    weights = (radius - matches.distance(point)) / radius\n",
    "    return weights.sum()\n",
    "\n",
    "\n",
    "with rasterio.open(raster_src) as src:\n",
    "    target_shape = (src.meta[\"height\"], src.meta[\"width\"])\n",
    "    target_transform = src.transform\n",
    "    resolution = int(abs(src.res[0]))\n",
    "\n",
    "query_set = f\"{resolution} res, {RADIUS} radius\"\n",
    "print(\"Computing stats for %s\", query_set)\n",
    "\n",
    "sindex = filtered_points.sindex\n",
    "centroids = get_centroids(target_shape, target_transform)\n",
    "total = target_shape[0] * target_shape[1]\n",
    "\n",
    "data = []\n",
    "for i, centroid in enumerate(tqdm(centroids, total=total)):\n",
    "    buffer = centroid.buffer(RADIUS)\n",
    "    precise_matches_idx = sindex.query(buffer, predicate=\"intersects\")\n",
    "    if len(precise_matches_idx) > 0:\n",
    "        centroid = buffer.centroid\n",
    "        row, col = src.index(centroid.x, centroid.y)\n",
    "        precise_matches = filtered_points.iloc[precise_matches_idx]\n",
    "        for sp_id, obs in precise_matches.groupby(\"species_id\"):\n",
    "            count = len(obs)\n",
    "            wt_count = weighted_count(\n",
    "                obs,  # pyright: ignore[reportGeneralTypeIssues]\n",
    "                centroid,\n",
    "                RADIUS,\n",
    "            )\n",
    "            data.append([row, col, sp_id, count, wt_count])"
   ]
  },
  {
   "cell_type": "markdown",
   "metadata": {},
   "source": [
    "This approach iterates over each grid cell and returns each grid cell that contains observations in its query, along with their IDs and statistics.\n",
    "\n",
    "The benefits of this approach are that it is a) fairly memory-efficient, which is important because if we were to divide this up for multiprocessing we would need to read the raster and generate the spatial index in each subprocess, and b) it returns only the information we need (grid cell coordinates that contain species in their queries, along the species IDs and their respective statistics).\n",
    "\n",
    "However, if we let this run a while we can see that, although this approach works on small grids, it will take many hours (~300) for a single 20m resolution grid without multiprocessing. If we divide it up across 48 cores, for example, we could reduce the computation time to ~6.25 hours, though it would likely be higher as we may not have enough memory to support that many processes, and multiprocessing often runs each subprocess slightly less efficiently than a single process due to the complexity of these data.\n",
    "\n",
    "That said, many grid cells contain no observations, so perhaps there is another way to minimize the number of grid cells we need to perform queries on."
   ]
  },
  {
   "cell_type": "markdown",
   "metadata": {},
   "source": [
    "### Querying by species point"
   ]
  },
  {
   "cell_type": "markdown",
   "metadata": {},
   "source": [
    "Another potential method for getting species-based statistics is to instead iterate over species points first to identify the relevant grid cells, and then query the species points from only the grid cells that we suspect contain species in the query radius.\n",
    "\n",
    "Here's how we might do this.\n",
    "\n",
    "**First pass**\n",
    "\n",
    "1. Iterate over species points\n",
    "2. For each point, find its corresponding grid cell in the raster, and then find all raster cells within the query radius (+1 grid cell size to make sure we don’t cut off grid cells?).\n",
    "3. Store the row, col of all grid cells\n",
    "\n",
    "**Second pass**\n",
    "\n",
    "1. Build a tree from species points\n",
    "2. Get centroids for all raster cells identified and only iterate over those using the previous method.\n",
    "\n",
    "If this still takes too long, we can modify the second pass:\n",
    "\n",
    "**Second pass (modified; if necessary)**\n",
    "1. For each point, calculate the centroids of each of the cells in the radius neighborhood\n",
    "2. Build a spatial index for the cells in the neighborhood\n",
    "3. Query the centroid tree from the point\n",
    "3. Store all centroids that intersect as well as their distances.\n",
    "4. The resulting data structure would look like:\n",
    "    1. species id, point\n",
    "        - [intersecting grid cell 0, distance]\n",
    "        - ...\n",
    "5. The data would then need to be grouped by grid cell:\n",
    "    1. grid cell\n",
    "        - species id\n",
    "            - array of distance(s)\n",
    "        - ...\n",
    "        ...\n",
    "6. From there we could aggregate species_ids within grid cells to calculate counts and average distance (to be used as a weight for counts)"
   ]
  },
  {
   "cell_type": "markdown",
   "metadata": {},
   "source": [
    "### First pass"
   ]
  },
  {
   "cell_type": "code",
   "execution_count": 6,
   "metadata": {},
   "outputs": [],
   "source": [
    "raster_src = cfg[\"s2_20m\"][\"src\"]\n",
    "RADIUS = 1000\n",
    "RES = 20\n",
    "points = (\n",
    "    read_df(cfg[\"gbif\"][\"points\"])\n",
    "    .assign(geometry=lambda df_: gpd.points_from_xy(df_.x, df_.y))\n",
    "    .drop(columns=[\"x\", \"y\"])\n",
    "    .pipe(lambda df_: gpd.GeoDataFrame(df_))\n",
    ")\n",
    "\n",
    "counts = points.species_id.value_counts()\n",
    "top_species = counts.nlargest(100).index\n",
    "filtered_points = points[points.species_id.isin(top_species)].reset_index(drop=True)"
   ]
  },
  {
   "cell_type": "markdown",
   "metadata": {},
   "source": [
    "First, get all rows and columns of the target raster that contain species observations."
   ]
  },
  {
   "cell_type": "code",
   "execution_count": 7,
   "metadata": {},
   "outputs": [],
   "source": [
    "cell_radius = RADIUS // RES + 1\n",
    "\n",
    "src = rasterio.open(raster_src)\n",
    "\n",
    "# Get rows and cols for all points\n",
    "rows, cols = src.index(filtered_points.geometry.x, filtered_points.geometry.y)"
   ]
  },
  {
   "cell_type": "markdown",
   "metadata": {},
   "source": [
    "Drop duplicate pairs of `rows` and `cols` as some cells contain multiple observations."
   ]
  },
  {
   "cell_type": "code",
   "execution_count": 8,
   "metadata": {},
   "outputs": [
    {
     "name": "stdout",
     "output_type": "stream",
     "text": [
      "Dropped 4213049 duplicates.\n"
     ]
    }
   ],
   "source": [
    "# Create a DataFrame from rows and cols and drop duplicates\n",
    "df = pd.DataFrame({\n",
    "    'row': rows,\n",
    "    'col': cols\n",
    "}).astype(np.int32).drop_duplicates(ignore_index=True)\n",
    "\n",
    "print(f\"Dropped {len(rows) - df.shape[0]} duplicates.\")"
   ]
  },
  {
   "cell_type": "markdown",
   "metadata": {},
   "source": [
    "Next, create a radial kernel with a radius of the query radius + 1 (this is why we added one when assigning `cell_radius` above) to ensure that no potential grid cells are missed."
   ]
  },
  {
   "cell_type": "code",
   "execution_count": 6,
   "metadata": {},
   "outputs": [],
   "source": [
    "# Generate a radial kernel\n",
    "y, x = np.ogrid[-RES:RES+1, -RES:RES+1]\n",
    "mask = x**2 + y**2 <= RES**2\n",
    "\n",
    "# Get the row and column offsets from the kernel\n",
    "row_offsets, col_offsets = np.where(mask)\n",
    "\n",
    "# Adjust the offsets so that the center of the kernel is at (0, 0)\n",
    "row_offsets -= RES\n",
    "col_offsets -= RES"
   ]
  },
  {
   "cell_type": "markdown",
   "metadata": {},
   "source": [
    "Finally, get all grid cell indices that fall within our desired `cell_radius`, and don't forget to reset values of rows and columns that would fall outside the raster."
   ]
  },
  {
   "cell_type": "code",
   "execution_count": 7,
   "metadata": {},
   "outputs": [
    {
     "name": "stdout",
     "output_type": "stream",
     "text": [
      "Calculating for rows...\n",
      "Calculating for cols...\n",
      "Creating dataframe...\n"
     ]
    }
   ],
   "source": [
    "# Calculate the rows and columns of the kernel for the unique points\n",
    "print(\"Calculating for rows...\")\n",
    "kernel_rows = np.repeat(df[\"row\"].values, len(row_offsets)) + np.tile(\n",
    "    row_offsets, len(df)\n",
    ")\n",
    "print(\"Calculating for cols...\")\n",
    "kernel_cols = np.repeat(df[\"col\"].values, len(col_offsets)) + np.tile(\n",
    "    col_offsets, len(df)\n",
    ")\n",
    "\n",
    "print(\"Creating dataframe...\")\n",
    "# Create a new DataFrame from the rows and columns of the kernel\n",
    "df_kernel = (\n",
    "    pd.DataFrame({\"row\": kernel_rows, \"col\": kernel_cols})\n",
    "    .astype(np.int32)\n",
    "    .drop_duplicates(ignore_index=True)\n",
    ")\n",
    "if df_kernel.row.max() >= src.height:\n",
    "    df_kernel = df_kernel.assign(\n",
    "        row=lambda df_: np.where(\n",
    "            df_[\"row\"] > src.height - 1, src.height - 1, df_[\"row\"]\n",
    "        )\n",
    "    )\n",
    "if df_kernel.col.max() >= src.width:\n",
    "    df_kernel = df_kernel.assign(\n",
    "        col=lambda df_: np.where(df_[\"col\"] > src.width - 1, src.width - 1, df_[\"col\"]),\n",
    "    )\n",
    "if df_kernel.row.min() < 0:\n",
    "    df_kernel = df_kernel.assign(\n",
    "        row=lambda df_: np.where(df_[\"row\"] < 0, 0, df_[\"row\"]),\n",
    "    )\n",
    "if df_kernel.col.min() < 0:\n",
    "    df_kernel = df_kernel.assign(\n",
    "        col=lambda df_: np.where(df_[\"col\"] < 0, 0, df_[\"col\"]),\n",
    "    )\n",
    "\n",
    "df_kernel = df_kernel.drop_duplicates(ignore_index=True)\n",
    "\n",
    "del df, rows, cols"
   ]
  },
  {
   "cell_type": "markdown",
   "metadata": {},
   "source": [
    "Close the raster and inspect the savings in terms of computational complexity."
   ]
  },
  {
   "cell_type": "code",
   "execution_count": 8,
   "metadata": {},
   "outputs": [
    {
     "name": "stdout",
     "output_type": "stream",
     "text": [
      "Percent of original raster: 18.01%, a savings of 81.99%.\n"
     ]
    }
   ],
   "source": [
    "src.close()\n",
    "\n",
    "pct_of_raster = df_kernel.shape[0] / (src.height * src.width)\n",
    "print(\n",
    "    f\"Percent of original raster: {pct_of_raster * 100:.2f}%, \"\n",
    "    f\"a savings of {(1 - pct_of_raster) * 100:.2f}%.\"\n",
    ")"
   ]
  },
  {
   "cell_type": "markdown",
   "metadata": {},
   "source": [
    "### Second pass"
   ]
  },
  {
   "cell_type": "markdown",
   "metadata": {},
   "source": [
    "Now we can focus only on the grid cells that are near species points by using the initial R-tree approach."
   ]
  },
  {
   "cell_type": "markdown",
   "metadata": {},
   "source": [
    "First we need to redefine out `get_centroids` function to take a list of coordinates instead of the shape of a raster."
   ]
  },
  {
   "cell_type": "code",
   "execution_count": 7,
   "metadata": {},
   "outputs": [],
   "source": [
    "from typing import Iterable\n",
    "\n",
    "\n",
    "def get_row_cols(df: pd.DataFrame) -> Generator[tuple, None, None]:\n",
    "    for item in df[[\"row\", \"col\"]].values:\n",
    "        yield item[0], item[1]\n",
    "\n",
    "\n",
    "def get_centroids(\n",
    "    row_cols: Iterable[tuple], transform: Affine, xy: bool = False\n",
    ") -> Generator[tuple, None, None] | Generator[Point, None, None]:\n",
    "    \"\"\"Get grid cell centroids from a raster with a given width, height, and transform.\n",
    "    Centroids are returned in the flattened shape ((height * width), 2)\n",
    "    \"\"\"\n",
    "    for row, col in row_cols:\n",
    "        x_coord, y_coord = transform * (  # pyright: ignore[reportGeneralTypeIssues]\n",
    "            col + 0.5,\n",
    "            row + 0.5,\n",
    "        )\n",
    "        if xy:\n",
    "            yield x_coord, y_coord\n",
    "        else:\n",
    "            yield Point(x_coord, y_coord)\n",
    "\n",
    "\n",
    "def weighted_count(\n",
    "    matches: gpd.GeoDataFrame | gpd.GeoSeries, point: Point, radius: int | float\n",
    ") -> float:\n",
    "    \"\"\"Compute a weighted count of the number of points within a given distance of a point.\"\"\"\n",
    "    weights = (radius - matches.distance(point)) / radius\n",
    "    return weights.sum()"
   ]
  },
  {
   "cell_type": "code",
   "execution_count": null,
   "metadata": {},
   "outputs": [],
   "source": [
    "with rasterio.open(raster_src) as src:\n",
    "    target_shape = (src.meta[\"height\"], src.meta[\"width\"])\n",
    "    target_transform = src.transform\n",
    "    resolution = int(abs(src.res[0]))\n",
    "\n",
    "query_set = f\"{resolution} res, {RADIUS} radius\"\n",
    "print(\"Computing stats for %s\", query_set)\n",
    "\n",
    "sindex = filtered_points.sindex\n",
    "\n",
    "centroids = get_centroids(get_row_cols(df_kernel), target_transform)\n",
    "total = df_kernel.shape[0]\n",
    "\n",
    "data = []\n",
    "for i, centroid in enumerate(tqdm(centroids, total=total)):\n",
    "    buffer = centroid.buffer(RADIUS)\n",
    "    precise_matches_idx = sindex.query(buffer, predicate=\"intersects\")\n",
    "    if len(precise_matches_idx) > 0:\n",
    "        centroid = buffer.centroid\n",
    "        row, col = src.index(centroid.x, centroid.y)\n",
    "        precise_matches = filtered_points.iloc[precise_matches_idx]\n",
    "        for sp_id, obs in precise_matches.groupby(\"species_id\"):\n",
    "            count = len(obs)\n",
    "            wt_count = weighted_count(\n",
    "                obs,  # pyright: ignore[reportGeneralTypeIssues]\n",
    "                centroid,\n",
    "                RADIUS,\n",
    "            )\n",
    "            data.append([row, col, sp_id, count, wt_count])"
   ]
  },
  {
   "cell_type": "markdown",
   "metadata": {},
   "source": [
    "Unfortunately, after letting it run for a few minutes, we can see that even querying the filtered grid cells with the filtered points will still take very long (~4000 hours) on a single processor."
   ]
  },
  {
   "cell_type": "markdown",
   "metadata": {},
   "source": [
    "## Modified approach\n",
    "\n",
    "**Let's investigate a modified approach, in which, instead of querying each grid cell, we build the centroid tree as we sample the relevant grid cells for each point and perform a reverse query to get the grid cell centroids within the radius of the point as well as their distances. One benefit of this approach is that it should be easily multiprocessed.**\n",
    "\n",
    "Two other options are:\n",
    "- Build a spatial index of the relevant grid cell centroids to see which other grid centroids are in the neighborhood (probably memory-constrained to build that many centroids).\n",
    "- Pass a convolutional kernel over only the grid cells in `df_kernel`. This would require that the convolution method be able to accept sparse matrices, or that we iterate over the relevant cells manually."
   ]
  },
  {
   "cell_type": "markdown",
   "metadata": {},
   "source": [
    "First let's create the kernel function."
   ]
  },
  {
   "cell_type": "code",
   "execution_count": 2,
   "metadata": {},
   "outputs": [],
   "source": [
    "def pixel_to_coord(row, col, transform):\n",
    "    \"\"\"Returns global coordinates to pixel center using base-0 raster index\"\"\"\n",
    "    x = transform.c + transform.a * col + transform.b * row\n",
    "    y = transform.f + transform.d * col + transform.e * row\n",
    "    return x, y\n",
    "\n",
    "\n",
    "def get_kernel_centroids(origin: np.ndarray, radius, transform) -> tuple:\n",
    "    y, x = np.ogrid[-radius : radius + 1, -radius : radius + 1]\n",
    "    mask = x**2 + y**2 <= radius**2\n",
    "\n",
    "    indices = np.argwhere(mask) - radius\n",
    "    neighborhood_idx = indices + np.array(origin)\n",
    "    centroids = neighborhood_idx + 0.5\n",
    "    transformed_centroids = np.zeros(centroids.shape)\n",
    "    for i, centroid in enumerate(centroids):\n",
    "        transformed_centroids[i, 0], transformed_centroids[i, 1] = pixel_to_coord(\n",
    "            centroid[0], centroid[1], transform\n",
    "        )\n",
    "    return neighborhood_idx, transformed_centroids"
   ]
  },
  {
   "cell_type": "markdown",
   "metadata": {},
   "source": [
    "We can then write a function that takes the neighborhood indices, the centroids, the current GBIF observation, and the query radius to create a K-d tree from the neighborhood centroids (in the raster coordinate system) which we can then query from each observation point. From that we will get each grid cell centroid that is within the query radius of the GBIF point, as well as their distances.\n",
    "\n",
    "Later we can aggregate this data to get observation counts per species per grid cell, and we can weight those counts by the average distances."
   ]
  },
  {
   "cell_type": "code",
   "execution_count": 3,
   "metadata": {},
   "outputs": [],
   "source": [
    "from scipy.spatial import KDTree\n",
    "from scipy.spatial.distance import euclidean\n",
    "\n",
    "\n",
    "def get_kernel_stats(hood_idx, kernel_centroids, origin, radius) -> list[tuple]:\n",
    "    # print(f\"hood_idx shape: {hood_idx.shape}, kernel_centroids shape: {kernel_centroids.shape}\")\n",
    "    kernel_tree = KDTree(kernel_centroids)\n",
    "    nearest_indices = kernel_tree.query_ball_point(origin, radius)\n",
    "    # print(f\"nearest_indices shape: {len(nearest_indices)}\")\n",
    "    distances = np.array([euclidean(origin, kernel_centroids[i]) for i in nearest_indices])\n",
    "    # print(f\"distances shape: {len(distances)}\")\n",
    "    return [(hood_idx[j], distances[i]) for i, j in enumerate(nearest_indices)]"
   ]
  },
  {
   "cell_type": "markdown",
   "metadata": {},
   "source": [
    "Now read the data and select the top 100 species."
   ]
  },
  {
   "cell_type": "code",
   "execution_count": 4,
   "metadata": {},
   "outputs": [],
   "source": [
    "raster_src = cfg[\"s2_20m\"][\"src\"]\n",
    "src = rasterio.open(raster_src)\n",
    "RADIUS = 1000\n",
    "RES = 20\n",
    "cell_radius = RADIUS // RES\n",
    "\n",
    "points = read_df(cfg[\"gbif\"][\"points\"])\n",
    "\n",
    "counts = points.species_id.value_counts()\n",
    "top_species = counts.nlargest(100).index\n",
    "filtered_points = points[points.species_id.isin(top_species)].reset_index(drop=True)"
   ]
  },
  {
   "cell_type": "markdown",
   "metadata": {},
   "source": [
    "Split out the observation coordinates and their corresponding IDs."
   ]
  },
  {
   "cell_type": "code",
   "execution_count": 5,
   "metadata": {},
   "outputs": [],
   "source": [
    "xy = np.c_[filtered_points.x, filtered_points.y]\n",
    "sp_idx = filtered_points.species_id"
   ]
  },
  {
   "cell_type": "markdown",
   "metadata": {},
   "source": [
    "#### Pure multiprocessing"
   ]
  },
  {
   "cell_type": "code",
   "execution_count": 11,
   "metadata": {},
   "outputs": [
    {
     "name": "stdout",
     "output_type": "stream",
     "text": [
      "Chunk size: 3180\n"
     ]
    }
   ],
   "source": [
    "def chunks(lst, n):\n",
    "    \"\"\"Yield successive n-sized chunks from lst.\"\"\"\n",
    "    for i in range(0, len(lst), n):\n",
    "        yield lst[i : i + n]\n",
    "\n",
    "\n",
    "\n",
    "N_CHUNKS = 1500\n",
    "N_PROCS = 48\n",
    "\n",
    "# Split the data into chunks for multiprocessing\n",
    "chunk_size = len(sp_idx) // N_CHUNKS + (len(sp_idx) % N_CHUNKS > 0)\n",
    "point_chunks = list(chunks(list(zip(sp_idx, xy)), chunk_size))\n",
    "\n",
    "print(\"Chunk size:\", chunk_size)"
   ]
  },
  {
   "cell_type": "code",
   "execution_count": null,
   "metadata": {},
   "outputs": [],
   "source": [
    "import gc\n",
    "import pandas as pd\n",
    "from multiprocessing import Pool, cpu_count\n",
    "import rasterio\n",
    "\n",
    "N_PROCS = 40\n",
    "\n",
    "\n",
    "def chunks(lst, n):\n",
    "    \"\"\"Yield successive n-sized chunks from lst.\"\"\"\n",
    "    for i in range(0, len(lst), n):\n",
    "        yield lst[i : i + n]\n",
    "\n",
    "\n",
    "def process_chunk(args):\n",
    "    chunk, raster_src = args\n",
    "    data = []\n",
    "    with rasterio.open(raster_src) as src:\n",
    "        data = (\n",
    "            (sp_id, f\"{grid_cell[0]} {grid_cell[1]}\", distance)\n",
    "            for sp_id, point in chunk\n",
    "            for grid_cell, distance in get_kernel_stats(\n",
    "                *get_kernel_centroids(\n",
    "                    np.array(src.index(point[0], point[1])), cell_radius, src.transform\n",
    "                ),\n",
    "                origin=point,\n",
    "                radius=RADIUS,\n",
    "            )\n",
    "        )\n",
    "    src.close()\n",
    "    df = pd.DataFrame(data, columns=[\"species_id\", \"grid_cell\", \"distance\"]).astype(\n",
    "        {\n",
    "            \"species_id\": \"category\",\n",
    "            \"grid_cell\": \"string[pyarrow]\",\n",
    "            \"distance\": np.float32,\n",
    "        }\n",
    "    )\n",
    "\n",
    "    del data, df, src\n",
    "    gc.collect()\n",
    "\n",
    "    # When processing the full set, we will probably want to write each df to disk to\n",
    "    # conserve memory, but for now we'll return it\n",
    "    # df.to_parquet(\"path/to/file.parquet\")\n",
    "    print(\"Chunk processed.\")\n",
    "    return None\n",
    "\n",
    "\n",
    "N_CHUNKS = 1000\n",
    "N_PROCS = 48\n",
    "\n",
    "# Split the data into chunks for multiprocessing\n",
    "chunk_size = len(sp_idx) // N_CHUNKS + (len(sp_idx) % N_CHUNKS > 0)\n",
    "point_chunks = list(chunks(list(zip(sp_idx, xy)), chunk_size))\n",
    "\n",
    "with Pool(N_PROCS) as p:\n",
    "    results = p.map(process_chunk, [(chunk, raster_src) for chunk in point_chunks])\n",
    "\n",
    "# Combine all of the dataframes from each chunk. Then we can group them by grid cell\n",
    "# and species ID, and from that we can determine the species abundances (counts) and\n",
    "# weight them by their average distances.\n",
    "result_df = pd.concat(results)\n",
    "final_df = (\n",
    "    result_df.groupby([\"grid_cell\", \"species_id\"], observed=False)\n",
    "    .agg(count=(\"distance\", \"count\"), mean_distance=(\"distance\", \"mean\"))\n",
    "    .assign(wt_count=lambda df_: df_[\"count\"] * (1 - df_[\"mean_distance\"] / RADIUS))\n",
    "    .drop(columns=\"mean_distance\")\n",
    "    .astype({\"wt_count\": np.float16})\n",
    ")"
   ]
  }
 ],
 "metadata": {
  "kernelspec": {
   "display_name": "Python 3",
   "language": "python",
   "name": "python3"
  },
  "language_info": {
   "codemirror_mode": {
    "name": "ipython",
    "version": 3
   },
   "file_extension": ".py",
   "mimetype": "text/x-python",
   "name": "python",
   "nbconvert_exporter": "python",
   "pygments_lexer": "ipython3",
   "version": "3.10.13"
  }
 },
 "nbformat": 4,
 "nbformat_minor": 2
}
