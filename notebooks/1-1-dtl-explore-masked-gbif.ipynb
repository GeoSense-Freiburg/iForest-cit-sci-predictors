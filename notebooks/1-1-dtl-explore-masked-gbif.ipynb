{
 "cells": [
  {
   "cell_type": "markdown",
   "metadata": {},
   "source": [
    "# 1.1 - Explore forest-masked GBIF data"
   ]
  },
  {
   "cell_type": "code",
   "execution_count": 11,
   "metadata": {},
   "outputs": [
    {
     "name": "stdout",
     "output_type": "stream",
     "text": [
      "The autoreload extension is already loaded. To reload it, use:\n",
      "  %reload_ext autoreload\n"
     ]
    }
   ],
   "source": [
    "import os\n",
    "from dotenv import find_dotenv, load_dotenv\n",
    "import geopandas as gpd\n",
    "from src.conf.parse_params import config as cfg\n",
    "from src.utils.df_utils import read_gdf\n",
    "\n",
    "load_dotenv(find_dotenv())\n",
    "os.chdir(os.environ[\"PROJECT_ROOT\"])\n",
    "\n",
    "%load_ext autoreload\n",
    "%autoreload 2"
   ]
  },
  {
   "cell_type": "markdown",
   "metadata": {},
   "source": [
    "## How many species in total?"
   ]
  },
  {
   "cell_type": "markdown",
   "metadata": {},
   "source": [
    "Load the dataframe"
   ]
  },
  {
   "cell_type": "code",
   "execution_count": 31,
   "metadata": {},
   "outputs": [],
   "source": [
    "gbif = read_gdf(cfg[\"gbif\"][\"masked\"]).astype({\"species\": \"string[pyarrow]\"})"
   ]
  },
  {
   "cell_type": "code",
   "execution_count": 34,
   "metadata": {},
   "outputs": [
    {
     "data": {
      "text/plain": [
       "species\n",
       "Fagus sylvatica            147298\n",
       "Quercus robur              104129\n",
       "Sorbus aucuparia            97017\n",
       "Urtica dioica               92983\n",
       "Picea abies                 79606\n",
       "                            ...  \n",
       "Taraxacum tortuosum             1\n",
       "Taraxacum insigne               1\n",
       "Taraxacum lucescens             1\n",
       "Taraxacum zevenbergenii         1\n",
       "Taraxacum replicatum            1\n",
       "Name: count, Length: 9219, dtype: int64[pyarrow]"
      ]
     },
     "execution_count": 34,
     "metadata": {},
     "output_type": "execute_result"
    }
   ],
   "source": [
    "gbif.species.value_counts()"
   ]
  },
  {
   "cell_type": "markdown",
   "metadata": {},
   "source": [
    "It looks like _Fagus sylvatica_ (European beech) is the most abundant species, followed by _Quercus robur_ (pedunculate oak), and there are 9,219 unique species occurrences."
   ]
  },
  {
   "cell_type": "markdown",
   "metadata": {},
   "source": [
    "## Querying approach"
   ]
  },
  {
   "cell_type": "markdown",
   "metadata": {},
   "source": [
    "We need to query species occurrences within a given radius at each grid cell center for each species.\n",
    "\n",
    "To do this we will likely need to leverage an [R-tree](https://en.wikipedia.org/wiki/R-tree) for (relatively) quick spatial indexing. This can be done using the built-in `GeoDataFrame.sindex` method from `geopandas`.\n",
    "\n",
    "We can then get a list of all unique species in the dataset, and for each species we can then iterate over each grid cell centroid and identify all occurrences of the respective species present in the query radius. \n",
    "\n",
    "A rough implementation might look something like this."
   ]
  },
  {
   "cell_type": "code",
   "execution_count": null,
   "metadata": {},
   "outputs": [],
   "source": [
    "import geopandas as gpd\n",
    "import rasterio\n",
    "import numpy as np\n",
    "import pygeos\n",
    "from shapely.geometry import Point\n",
    "from geopandas import GeoSeries\n",
    "\n",
    "# Load the reference raster\n",
    "with rasterio.open('reference.tif') as src:\n",
    "    meta = src.meta\n",
    "\n",
    "# Load the point data\n",
    "points = gpd.read_file('points.geojson')\n",
    "\n",
    "# Convert the GeoDataFrame to a GeoSeries of pygeos.Geometry objects\n",
    "points_pygeos = gpd.GeoSeries(points['geometry'].apply(pygeos.from_shapely))\n",
    "\n",
    "# Create a spatial index\n",
    "sindex = pygeos.STRtree(points_pygeos)\n",
    "\n",
    "# Get the unique species\n",
    "species = points['species'].unique()\n",
    "\n",
    "# Create a 3D numpy array\n",
    "counts = np.zeros((len(species), meta['height'], meta['width']), dtype=meta['dtype'])\n",
    "\n",
    "# For each species\n",
    "for sp_idx, sp in enumerate(species):\n",
    "    # Filter the points\n",
    "    points_sp = points[points['species'] == sp]\n",
    "\n",
    "    # For each cell\n",
    "    for j in range(meta['width']):\n",
    "        for i in range(meta['height']):\n",
    "            # Compute the cell center\n",
    "            x, y = src.xy(i, j)\n",
    "            center = Point(x, y)\n",
    "            # Create a circular buffer around the cell center\n",
    "            buffer = center.buffer(1000)  # 1000 meters = 1 km\n",
    "            # Use the spatial index to find the points within the buffer\n",
    "            precise_matches_index = sindex.query(buffer, predicate='intersects')\n",
    "            precise_matches = points.iloc[precise_matches_index]\n",
    "            # Compute the inverse distance weights\n",
    "            weights = 1 / precise_matches.distance(center)\n",
    "            # Sum the weights and store it in the numpy array\n",
    "            counts[sp_idx, i, j] = weights.sum()\n",
    "\n",
    "# Update the metadata to reflect the number of layers\n",
    "meta.update(count=len(species))\n",
    "\n",
    "# Create a new raster file\n",
    "with rasterio.open('stacked.tif', 'w', **meta) as dst:\n",
    "    dst.write(counts)"
   ]
  }
 ],
 "metadata": {
  "kernelspec": {
   "display_name": "Python 3",
   "language": "python",
   "name": "python3"
  },
  "language_info": {
   "codemirror_mode": {
    "name": "ipython",
    "version": 3
   },
   "file_extension": ".py",
   "mimetype": "text/x-python",
   "name": "python",
   "nbconvert_exporter": "python",
   "pygments_lexer": "ipython3",
   "version": "3.10.13"
  }
 },
 "nbformat": 4,
 "nbformat_minor": 2
}
