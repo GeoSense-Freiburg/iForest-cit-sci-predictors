{
 "cells": [
  {
   "cell_type": "markdown",
   "metadata": {},
   "source": [
    "# 2.0 - Mask GBIF data"
   ]
  },
  {
   "cell_type": "code",
   "execution_count": 3,
   "metadata": {},
   "outputs": [],
   "source": [
    "import logging\n",
    "from pathlib import Path\n",
    "import sys\n",
    "\n",
    "import numpy as np\n",
    "import geopandas as gpd\n",
    "import pandas as pd\n",
    "import rasterio\n",
    "from rasterio.features import shapes\n",
    "import rioxarray as riox\n",
    "\n",
    "logging.basicConfig(level=logging.DEBUG, stream=sys.stdout)\n",
    "log = logging.getLogger()"
   ]
  },
  {
   "cell_type": "markdown",
   "metadata": {},
   "source": [
    "### Clip the GBIF data\n"
   ]
  },
  {
   "cell_type": "markdown",
   "metadata": {},
   "source": [
    "1. Convert `decimallatitude` and `decimallongitude` values to `shapely` `Point`s using `dask_geopandas.points_from_xy`\n",
    "2. Convert `dask.DataFrame` to `dask_geopandas\n",
    "3. Clip dataframe to the Germany mask\n"
   ]
  },
  {
   "cell_type": "markdown",
   "metadata": {},
   "source": [
    "Prep filenames"
   ]
  },
  {
   "cell_type": "code",
   "execution_count": 2,
   "metadata": {},
   "outputs": [],
   "source": [
    "df_fn = Path(\"../data/raw/gbif/all_tracheophyta_non-cult_2024-01-21.parquet\")"
   ]
  },
  {
   "cell_type": "markdown",
   "metadata": {},
   "source": [
    "## Polygonize forest mask"
   ]
  },
  {
   "cell_type": "code",
   "execution_count": 44,
   "metadata": {},
   "outputs": [],
   "source": [
    "from src.data.setup_forest_mask import polygonize_and_merge_forest_type_tiles\n",
    "\n",
    "\n",
    "f_mask_fns = Path(\n",
    "    \"../data/raw/masks/forest_type_2018/FTY_2018_010m_de_03035_v010/DATA\"\n",
    ").glob(\"*.tif\")\n",
    "\n",
    "merged_forest_mask = polygonize_and_merge_forest_type_tiles(f_mask_fns)"
   ]
  },
  {
   "cell_type": "code",
   "execution_count": null,
   "metadata": {},
   "outputs": [],
   "source": []
  },
  {
   "cell_type": "markdown",
   "metadata": {},
   "source": [
    "## Clip GBIF data by germany and forest masks"
   ]
  },
  {
   "cell_type": "code",
   "execution_count": null,
   "metadata": {},
   "outputs": [],
   "source": [
    "cols = [\"species\", \"decimallatitude\", \"decimallongitude\"]\n",
    "dtypes = {\n",
    "    \"species\": str,\n",
    "    \"decimallatitude\": np.float32,\n",
    "    \"decimallongitude\": np.float32,\n",
    "}\n",
    "\n",
    "\n",
    "def clip_df_to_bbox(df: pd.DataFrame, mask: gpd.GeoDataFrame) -> pd.DataFrame:\n",
    "    xmin, ymin, xmax, ymax = mask.total_bounds\n",
    "    return df[\n",
    "        (df[\"x\"] >= xmin) & (df[\"y\"] >= ymin) & (df[\"x\"] <= xmax) & (df[\"y\"] <= ymax)\n",
    "    ]\n",
    "\n",
    "\n",
    "clipped_gdf = (\n",
    "    pd.read_parquet(df_fn, columns=cols)\n",
    "    .astype(dtypes)\n",
    "    .dropna()\n",
    "    .rename(columns={\"decimallongitude\": \"x\", \"decimallatitude\": \"y\"})\n",
    "    .pipe(clip_df_to_bbox, mask=de_mask)\n",
    "    .assign(\n",
    "        geometry=lambda df_: gpd.points_from_xy(\n",
    "            df_[\"x\"], df_[\"y\"], crs=\"EPSG:4326\"\n",
    "        )\n",
    "    )\n",
    "    .drop(columns=[\"x\", \"y\"])\n",
    "    .pipe(lambda df_: gpd.GeoDataFrame(df_))\n",
    "    .clip(de_mask)\n",
    "    .to_crs(epsg=32632)\n",
    "    .reset_index(drop=True)\n",
    ")"
   ]
  },
  {
   "cell_type": "code",
   "execution_count": null,
   "metadata": {},
   "outputs": [
    {
     "data": {
      "text/html": [
       "<div>\n",
       "<style scoped>\n",
       "    .dataframe tbody tr th:only-of-type {\n",
       "        vertical-align: middle;\n",
       "    }\n",
       "\n",
       "    .dataframe tbody tr th {\n",
       "        vertical-align: top;\n",
       "    }\n",
       "\n",
       "    .dataframe thead th {\n",
       "        text-align: right;\n",
       "    }\n",
       "</style>\n",
       "<table border=\"1\" class=\"dataframe\">\n",
       "  <thead>\n",
       "    <tr style=\"text-align: right;\">\n",
       "      <th></th>\n",
       "      <th>species</th>\n",
       "      <th>geometry</th>\n",
       "    </tr>\n",
       "  </thead>\n",
       "  <tbody>\n",
       "    <tr>\n",
       "      <th>0</th>\n",
       "      <td>Vincetoxicum hirundinaria</td>\n",
       "      <td>POINT (8.45812 47.57488)</td>\n",
       "    </tr>\n",
       "    <tr>\n",
       "      <th>1</th>\n",
       "      <td>Angelica sylvestris</td>\n",
       "      <td>POINT (8.45812 47.57488)</td>\n",
       "    </tr>\n",
       "    <tr>\n",
       "      <th>2</th>\n",
       "      <td>Larix decidua</td>\n",
       "      <td>POINT (8.45812 47.57488)</td>\n",
       "    </tr>\n",
       "    <tr>\n",
       "      <th>3</th>\n",
       "      <td>Carex davalliana</td>\n",
       "      <td>POINT (8.45812 47.57488)</td>\n",
       "    </tr>\n",
       "    <tr>\n",
       "      <th>4</th>\n",
       "      <td>Fraxinus excelsior</td>\n",
       "      <td>POINT (8.45812 47.57488)</td>\n",
       "    </tr>\n",
       "  </tbody>\n",
       "</table>\n",
       "</div>"
      ],
      "text/plain": [
       "                     species                  geometry\n",
       "0  Vincetoxicum hirundinaria  POINT (8.45812 47.57488)\n",
       "1        Angelica sylvestris  POINT (8.45812 47.57488)\n",
       "2              Larix decidua  POINT (8.45812 47.57488)\n",
       "3           Carex davalliana  POINT (8.45812 47.57488)\n",
       "4         Fraxinus excelsior  POINT (8.45812 47.57488)"
      ]
     },
     "metadata": {},
     "output_type": "display_data"
    }
   ],
   "source": [
    "clipped_gdf.head()"
   ]
  }
 ],
 "metadata": {
  "kernelspec": {
   "display_name": "Python 3",
   "language": "python",
   "name": "python3"
  },
  "language_info": {
   "codemirror_mode": {
    "name": "ipython",
    "version": 3
   },
   "file_extension": ".py",
   "mimetype": "text/x-python",
   "name": "python",
   "nbconvert_exporter": "python",
   "pygments_lexer": "ipython3",
   "version": "3.10.13"
  }
 },
 "nbformat": 4,
 "nbformat_minor": 2
}
